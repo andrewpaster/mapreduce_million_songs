{
 "cells": [
  {
   "cell_type": "code",
   "execution_count": 30,
   "metadata": {},
   "outputs": [],
   "source": [
    "import pandas as pd\n",
    "import numpy as np"
   ]
  },
  {
   "cell_type": "code",
   "execution_count": 3,
   "metadata": {},
   "outputs": [],
   "source": [
    "df = pd.read_table('small_train_triplets.txt', header=None)"
   ]
  },
  {
   "cell_type": "code",
   "execution_count": 4,
   "metadata": {},
   "outputs": [],
   "source": [
    "df.columns = ['userid', 'songid', 'plays']"
   ]
  },
  {
   "cell_type": "code",
   "execution_count": 5,
   "metadata": {},
   "outputs": [
    {
     "data": {
      "text/html": [
       "<div>\n",
       "<style scoped>\n",
       "    .dataframe tbody tr th:only-of-type {\n",
       "        vertical-align: middle;\n",
       "    }\n",
       "\n",
       "    .dataframe tbody tr th {\n",
       "        vertical-align: top;\n",
       "    }\n",
       "\n",
       "    .dataframe thead th {\n",
       "        text-align: right;\n",
       "    }\n",
       "</style>\n",
       "<table border=\"1\" class=\"dataframe\">\n",
       "  <thead>\n",
       "    <tr style=\"text-align: right;\">\n",
       "      <th></th>\n",
       "      <th>userid</th>\n",
       "      <th>songid</th>\n",
       "      <th>plays</th>\n",
       "    </tr>\n",
       "  </thead>\n",
       "  <tbody>\n",
       "    <tr>\n",
       "      <th>0</th>\n",
       "      <td>b80344d063b5ccb3212f76538f3d9e43d87dca9e</td>\n",
       "      <td>SOBYHAJ12A6701BF1D</td>\n",
       "      <td>1</td>\n",
       "    </tr>\n",
       "    <tr>\n",
       "      <th>1</th>\n",
       "      <td>b80344d063b5ccb3212f76538f3d9e43d87dca9e</td>\n",
       "      <td>SOCNMUH12A6D4F6E6D</td>\n",
       "      <td>1</td>\n",
       "    </tr>\n",
       "    <tr>\n",
       "      <th>2</th>\n",
       "      <td>b80344d063b5ccb3212f76538f3d9e43d87dca9e</td>\n",
       "      <td>SODACBL12A8C13C273</td>\n",
       "      <td>1</td>\n",
       "    </tr>\n",
       "    <tr>\n",
       "      <th>3</th>\n",
       "      <td>b80344d063b5ccb3212f76538f3d9e43d87dca9e</td>\n",
       "      <td>SOLXHAI12A6D4FD6F3</td>\n",
       "      <td>1</td>\n",
       "    </tr>\n",
       "    <tr>\n",
       "      <th>4</th>\n",
       "      <td>b80344d063b5ccb3212f76538f3d9e43d87dca9e</td>\n",
       "      <td>SOMSQJY12A8C138539</td>\n",
       "      <td>1</td>\n",
       "    </tr>\n",
       "  </tbody>\n",
       "</table>\n",
       "</div>"
      ],
      "text/plain": [
       "                                     userid              songid  plays\n",
       "0  b80344d063b5ccb3212f76538f3d9e43d87dca9e  SOBYHAJ12A6701BF1D      1\n",
       "1  b80344d063b5ccb3212f76538f3d9e43d87dca9e  SOCNMUH12A6D4F6E6D      1\n",
       "2  b80344d063b5ccb3212f76538f3d9e43d87dca9e  SODACBL12A8C13C273      1\n",
       "3  b80344d063b5ccb3212f76538f3d9e43d87dca9e  SOLXHAI12A6D4FD6F3      1\n",
       "4  b80344d063b5ccb3212f76538f3d9e43d87dca9e  SOMSQJY12A8C138539      1"
      ]
     },
     "execution_count": 5,
     "metadata": {},
     "output_type": "execute_result"
    }
   ],
   "source": [
    "df.head()"
   ]
  },
  {
   "cell_type": "code",
   "execution_count": 6,
   "metadata": {},
   "outputs": [],
   "source": [
    "df['total_plays'] = df.groupby('userid')['plays'].transform('sum')"
   ]
  },
  {
   "cell_type": "code",
   "execution_count": 7,
   "metadata": {},
   "outputs": [],
   "source": [
    "df['percent_plays'] = df['plays'] / df['total_plays']"
   ]
  },
  {
   "cell_type": "code",
   "execution_count": 11,
   "metadata": {},
   "outputs": [],
   "source": [
    "df = df[0:20000].merge(df[0:20000], on='songid')"
   ]
  },
  {
   "cell_type": "code",
   "execution_count": 12,
   "metadata": {},
   "outputs": [],
   "source": [
    "df = df[df['userid_x'] != df['userid_y']]"
   ]
  },
  {
   "cell_type": "code",
   "execution_count": 14,
   "metadata": {},
   "outputs": [],
   "source": [
    "df['xx'] = df['percent_plays_x'] ** 2"
   ]
  },
  {
   "cell_type": "code",
   "execution_count": 15,
   "metadata": {},
   "outputs": [],
   "source": [
    "df['yy'] = df['percent_plays_y'] ** 2"
   ]
  },
  {
   "cell_type": "code",
   "execution_count": 17,
   "metadata": {},
   "outputs": [],
   "source": [
    "df['xy'] = df['percent_plays_x'] * df['percent_plays_y']"
   ]
  },
  {
   "cell_type": "code",
   "execution_count": 19,
   "metadata": {},
   "outputs": [
    {
     "data": {
      "text/html": [
       "<div>\n",
       "<style scoped>\n",
       "    .dataframe tbody tr th:only-of-type {\n",
       "        vertical-align: middle;\n",
       "    }\n",
       "\n",
       "    .dataframe tbody tr th {\n",
       "        vertical-align: top;\n",
       "    }\n",
       "\n",
       "    .dataframe thead th {\n",
       "        text-align: right;\n",
       "    }\n",
       "</style>\n",
       "<table border=\"1\" class=\"dataframe\">\n",
       "  <thead>\n",
       "    <tr style=\"text-align: right;\">\n",
       "      <th></th>\n",
       "      <th>userid_x</th>\n",
       "      <th>songid</th>\n",
       "      <th>plays_x</th>\n",
       "      <th>total_plays_x</th>\n",
       "      <th>percent_plays_x</th>\n",
       "      <th>userid_y</th>\n",
       "      <th>plays_y</th>\n",
       "      <th>total_plays_y</th>\n",
       "      <th>percent_plays_y</th>\n",
       "      <th>xx</th>\n",
       "      <th>yy</th>\n",
       "      <th>xy</th>\n",
       "    </tr>\n",
       "  </thead>\n",
       "  <tbody>\n",
       "    <tr>\n",
       "      <th>1</th>\n",
       "      <td>b80344d063b5ccb3212f76538f3d9e43d87dca9e</td>\n",
       "      <td>SOBYHAJ12A6701BF1D</td>\n",
       "      <td>1</td>\n",
       "      <td>8</td>\n",
       "      <td>0.125</td>\n",
       "      <td>1645b689f873529ab85e3b72742be44813e82bd3</td>\n",
       "      <td>1</td>\n",
       "      <td>4</td>\n",
       "      <td>0.250</td>\n",
       "      <td>0.015625</td>\n",
       "      <td>0.062500</td>\n",
       "      <td>0.03125</td>\n",
       "    </tr>\n",
       "    <tr>\n",
       "      <th>2</th>\n",
       "      <td>b80344d063b5ccb3212f76538f3d9e43d87dca9e</td>\n",
       "      <td>SOBYHAJ12A6701BF1D</td>\n",
       "      <td>1</td>\n",
       "      <td>8</td>\n",
       "      <td>0.125</td>\n",
       "      <td>7ff09036b3ba258b13621875d18d43511ed2e09c</td>\n",
       "      <td>1</td>\n",
       "      <td>5</td>\n",
       "      <td>0.200</td>\n",
       "      <td>0.015625</td>\n",
       "      <td>0.040000</td>\n",
       "      <td>0.02500</td>\n",
       "    </tr>\n",
       "    <tr>\n",
       "      <th>3</th>\n",
       "      <td>1645b689f873529ab85e3b72742be44813e82bd3</td>\n",
       "      <td>SOBYHAJ12A6701BF1D</td>\n",
       "      <td>1</td>\n",
       "      <td>4</td>\n",
       "      <td>0.250</td>\n",
       "      <td>b80344d063b5ccb3212f76538f3d9e43d87dca9e</td>\n",
       "      <td>1</td>\n",
       "      <td>8</td>\n",
       "      <td>0.125</td>\n",
       "      <td>0.062500</td>\n",
       "      <td>0.015625</td>\n",
       "      <td>0.03125</td>\n",
       "    </tr>\n",
       "    <tr>\n",
       "      <th>5</th>\n",
       "      <td>1645b689f873529ab85e3b72742be44813e82bd3</td>\n",
       "      <td>SOBYHAJ12A6701BF1D</td>\n",
       "      <td>1</td>\n",
       "      <td>4</td>\n",
       "      <td>0.250</td>\n",
       "      <td>7ff09036b3ba258b13621875d18d43511ed2e09c</td>\n",
       "      <td>1</td>\n",
       "      <td>5</td>\n",
       "      <td>0.200</td>\n",
       "      <td>0.062500</td>\n",
       "      <td>0.040000</td>\n",
       "      <td>0.05000</td>\n",
       "    </tr>\n",
       "    <tr>\n",
       "      <th>6</th>\n",
       "      <td>7ff09036b3ba258b13621875d18d43511ed2e09c</td>\n",
       "      <td>SOBYHAJ12A6701BF1D</td>\n",
       "      <td>1</td>\n",
       "      <td>5</td>\n",
       "      <td>0.200</td>\n",
       "      <td>b80344d063b5ccb3212f76538f3d9e43d87dca9e</td>\n",
       "      <td>1</td>\n",
       "      <td>8</td>\n",
       "      <td>0.125</td>\n",
       "      <td>0.040000</td>\n",
       "      <td>0.015625</td>\n",
       "      <td>0.02500</td>\n",
       "    </tr>\n",
       "  </tbody>\n",
       "</table>\n",
       "</div>"
      ],
      "text/plain": [
       "                                   userid_x              songid  plays_x  \\\n",
       "1  b80344d063b5ccb3212f76538f3d9e43d87dca9e  SOBYHAJ12A6701BF1D        1   \n",
       "2  b80344d063b5ccb3212f76538f3d9e43d87dca9e  SOBYHAJ12A6701BF1D        1   \n",
       "3  1645b689f873529ab85e3b72742be44813e82bd3  SOBYHAJ12A6701BF1D        1   \n",
       "5  1645b689f873529ab85e3b72742be44813e82bd3  SOBYHAJ12A6701BF1D        1   \n",
       "6  7ff09036b3ba258b13621875d18d43511ed2e09c  SOBYHAJ12A6701BF1D        1   \n",
       "\n",
       "   total_plays_x  percent_plays_x                                  userid_y  \\\n",
       "1              8            0.125  1645b689f873529ab85e3b72742be44813e82bd3   \n",
       "2              8            0.125  7ff09036b3ba258b13621875d18d43511ed2e09c   \n",
       "3              4            0.250  b80344d063b5ccb3212f76538f3d9e43d87dca9e   \n",
       "5              4            0.250  7ff09036b3ba258b13621875d18d43511ed2e09c   \n",
       "6              5            0.200  b80344d063b5ccb3212f76538f3d9e43d87dca9e   \n",
       "\n",
       "   plays_y  total_plays_y  percent_plays_y        xx        yy       xy  \n",
       "1        1              4            0.250  0.015625  0.062500  0.03125  \n",
       "2        1              5            0.200  0.015625  0.040000  0.02500  \n",
       "3        1              8            0.125  0.062500  0.015625  0.03125  \n",
       "5        1              5            0.200  0.062500  0.040000  0.05000  \n",
       "6        1              8            0.125  0.040000  0.015625  0.02500  "
      ]
     },
     "execution_count": 19,
     "metadata": {},
     "output_type": "execute_result"
    }
   ],
   "source": [
    "df.head()"
   ]
  },
  {
   "cell_type": "code",
   "execution_count": 36,
   "metadata": {},
   "outputs": [
    {
     "data": {
      "text/plain": [
       "userid_x                                  userid_y                                \n",
       "0007c0e74728ca9ef0fe4eb7f75732e8026a278b  b7278db59931a8a741d0bb911a12192a5b198929    0.050000\n",
       "000b474f815bcff17a4bc9ce5324f9352dafe07d  127f6e2bbb86d878464ed08131b4103a2fcef1e6    0.050000\n",
       "                                          1d4198bfa4580723e3618d983ef1f5fef9fbdd5c    0.200000\n",
       "                                          2e7bcdd35716dda84446dfad01dd944b8fa4d98d    0.012500\n",
       "                                          49e653907b13c8199dcc29f23f4acb08d3582025    0.173913\n",
       "                                          4d3b5c3bd41132f428a7d78498cf28ab13b6b5ea    0.285714\n",
       "                                          515c6d7023ad31411c1f6b11e0b2f56810348bee    0.214286\n",
       "                                          560096061de78f2840dfd8b28b44e6f9882eef46    0.333333\n",
       "                                          603957e79a2a57d8f3e8d013424f9a292aac03b9    0.285714\n",
       "                                          930914c6a274b6a849ea81ced43c3e07563bc286    0.166667\n",
       "                                          93fe597220a221a53c8790159ace3740ff4146b7    0.142857\n",
       "                                          a78052b6e8e05dc60839697028fb5cd3507cdb6d    0.296296\n",
       "                                          bc475d1315d4516bc66d27d3c4522c07b082c49d    0.053571\n",
       "                                          c0722f0f40e6df4174837c493c61808804aeec5f    0.250000\n",
       "                                          cbca858fb9417b6a7cb295357a05ad5c69b5665d    0.166667\n",
       "                                          d4622375cc31a85e6e30dc1329bb5d896914ace8    0.181818\n",
       "                                          e696cbec37fdd456780a28e608a372a6537876a4    0.125000\n",
       "                                          fa850f3d9bd24da964f43ecac35068abdaf17384    0.142857\n",
       "000ebc858861aca26bac9b49f650ed424cf882fc  676e13287f801f8b0fd5621aff9536d6903b7f4b    0.027778\n",
       "                                          882a5e40ff058b3d0b7d899252939da78f531b67    0.021277\n",
       "                                          8f0e25d95d6e30f0993b9f57fca6c431d78f5a2d    0.027523\n",
       "                                          c23149dd540ec769543c4ab914c274d4fbe1ed4a    0.027778\n",
       "                                          d5fb74290d02aa8777976d5322cc2edff866078a    0.026316\n",
       "                                          d6fd550298fc64fc8182e0a25b070c80e48634c5    0.017241\n",
       "001f22c638730aed5659034c447d3cf0e658898e  999902c7302ca251b23f5c0d643debce084076d3    0.200000\n",
       "002543003041db1d049206b09426d5cdffc0f451  c31d0c232a3a011842670423c9f7e5ad280bae47    0.125000\n",
       "0030822badc23ef6500a72ce7feda1c63faf2262  12869bc96b359a9ffddd43b274de31b537607882    0.100000\n",
       "00342a0cdf56a45465f09a39040a5bc25b7d0046  3f418dee89b4bcd71752b2551277bf7770840da0    0.027778\n",
       "                                          416cce01a1b4bdf02b48d3557f2f512b04a69f2b    0.044118\n",
       "                                          9b3eeb5f2ca856e25ceb33656425dac6df34b818    0.063917\n",
       "                                                                                        ...   \n",
       "fffce9c1537fbc350ea68823d956eaa8f5236dbe  30daf43047492770094516220468a8e40b88c510    0.080645\n",
       "                                          390c2e81bc9cf885608a0891c0a7eb13f1fd3336    0.150000\n",
       "                                          3962d87eb0824e822f656e8cec4caa35fba2029c    0.040000\n",
       "                                          4bda4b39f5a2c2fc90b4cf9dd15fa966ae413ac8    0.085714\n",
       "                                          5c2a73217df5fb8700a6836240987292c08cfb83    0.200000\n",
       "                                          64dd363ed60a07f53b774a27ebc9f628911aad3d    0.091216\n",
       "                                          6829d130732b4d2f377f578acaf093def637e1d4    0.272727\n",
       "                                          7321eacd7dacb47f92f8a364b50df9946cd6e230    0.107527\n",
       "                                          82fb8c79e2913210a1488a6b9af3ee10a5a7a3a2    0.048387\n",
       "                                          83d749fe111a23344f4b347a25ee653d66396e64    0.040000\n",
       "                                          8f9d31abd943361a8114263a480044d1bcda2b4c    0.272727\n",
       "                                          90141787198af4e517162e40a6231a5f3cdb03ea    0.055046\n",
       "                                          98d19b247feb41388d466cbcd2c435260c5c6132    0.111111\n",
       "                                          9af0c89be1399b87601e49586d25163356f92424    0.111111\n",
       "                                          9fdeaf751acfa62f7c9a94bf275e9f3eb0763c63    0.214286\n",
       "                                          a0128276010825ca58b3c9006311f1d2c6f2483f    0.176471\n",
       "                                          a30a766429f52843aca0aa805440a1079beb853c    0.107692\n",
       "                                          b12e7c96b09760880147b4e7465f7e37209e016a    0.088670\n",
       "                                          b7517043d6cbbe82a338e85bbd7b76a78f80d0b6    0.272727\n",
       "                                          c713fc4c2c9e9076ce35fb33bba8e1d8b788f349    0.150000\n",
       "                                          cbc11045fb41737df3664db997833183f8d55801    0.083333\n",
       "                                          cbf1c037a71ea3ab8d9cc2145948e1e2bcbce482    0.214286\n",
       "                                          d4e1995e902309f1ac17b9fd50c7d6723f20652a    0.240000\n",
       "                                          d805b8eef3d8fcb90379cd523da90b157066047d    0.063830\n",
       "                                          d91db0528c66f99d0c4b9272ae61dd5b4e4e5e73    0.107143\n",
       "                                          e3745a46807c4fcb0611a3494b60b91a7988988a    0.083333\n",
       "                                          eb797b4fbc00b52bd283a5b5ea1d2078434d087c    0.032609\n",
       "                                          f3a806160c6edfa6ccadefbf93c190e57e5bb7db    0.078947\n",
       "                                          fa850f3d9bd24da964f43ecac35068abdaf17384    0.130435\n",
       "                                          fd1f275f7c4f69a015ffa07039df35e6621020b0    0.041667\n",
       "Length: 41320, dtype: float64"
      ]
     },
     "execution_count": 36,
     "metadata": {},
     "output_type": "execute_result"
    }
   ],
   "source": [
    "df.groupby(['userid_x', 'userid_y'])['xy'].sum() / (np.sqrt(df.groupby(['userid_x', 'userid_y'])['xx'].sum()) + np.sqrt(df.groupby(['userid_x', 'userid_y'])['yy'].sum()))"
   ]
  },
  {
   "cell_type": "code",
   "execution_count": 66,
   "metadata": {},
   "outputs": [],
   "source": [
    "df=pd.read_table('small_train_triplets.txt', header=None)"
   ]
  },
  {
   "cell_type": "code",
   "execution_count": 67,
   "metadata": {},
   "outputs": [],
   "source": [
    "df.columns = ['userid', 'songid', 'plays']"
   ]
  },
  {
   "cell_type": "code",
   "execution_count": 68,
   "metadata": {},
   "outputs": [],
   "source": [
    "df = df.merge(df, on='songid')"
   ]
  },
  {
   "cell_type": "code",
   "execution_count": 69,
   "metadata": {},
   "outputs": [],
   "source": [
    "df = df[df['userid_x'] != df['userid_y']]"
   ]
  },
  {
   "cell_type": "code",
   "execution_count": 70,
   "metadata": {},
   "outputs": [
    {
     "data": {
      "text/plain": [
       "63918"
      ]
     },
     "execution_count": 70,
     "metadata": {},
     "output_type": "execute_result"
    }
   ],
   "source": [
    "len(df)"
   ]
  },
  {
   "cell_type": "code",
   "execution_count": 71,
   "metadata": {},
   "outputs": [],
   "source": [
    "df=pd.read_table('results.txt', header=None)"
   ]
  },
  {
   "cell_type": "code",
   "execution_count": 72,
   "metadata": {},
   "outputs": [
    {
     "data": {
      "text/plain": [
       "63918"
      ]
     },
     "execution_count": 72,
     "metadata": {},
     "output_type": "execute_result"
    }
   ],
   "source": [
    "len(df)"
   ]
  },
  {
   "cell_type": "code",
   "execution_count": null,
   "metadata": {},
   "outputs": [],
   "source": []
  }
 ],
 "metadata": {
  "kernelspec": {
   "display_name": "Python 3",
   "language": "python",
   "name": "python3"
  },
  "language_info": {
   "codemirror_mode": {
    "name": "ipython",
    "version": 3
   },
   "file_extension": ".py",
   "mimetype": "text/x-python",
   "name": "python",
   "nbconvert_exporter": "python",
   "pygments_lexer": "ipython3",
   "version": "3.6.4"
  }
 },
 "nbformat": 4,
 "nbformat_minor": 2
}
